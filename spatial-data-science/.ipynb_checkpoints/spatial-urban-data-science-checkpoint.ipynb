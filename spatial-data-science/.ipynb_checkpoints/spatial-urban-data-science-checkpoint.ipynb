{
 "cells": [
  {
   "cell_type": "markdown",
   "metadata": {},
   "source": [
    "# Spatial and urban data science"
   ]
  },
  {
   "cell_type": "markdown",
   "metadata": {},
   "source": [
    "In this tutorial, we will learn the basics of working with spatial data and spatial network analysis.\n",
    "\n",
    "More specifically, we will introduce:\n",
    "\n",
    "1. Basic spatial data and GIS operations using [geopandas](http://geopandas.org/user.html), which spatializes pandas dataframes. It uses the [shapely](https://shapely.readthedocs.io/en/latest/manual.html) package for geometry.\n",
    "\n",
    "1. Spatial network modeling and analysis with [OSMnx](https://osmnx.readthedocs.io), which allows you to download, model, analyze, and visualize street networks (and other spatial data) anywhere in the world from [OpenStreetMap](https://www.openstreetmap.org/#map=4/38.01/-95.84), an open source geodatabase that provides freely accessible spatial data worldwide.\n",
    "\n",
    "1. Urban accessibility analysis using [Pandana](https://udst.github.io/pandana/), which uses contraction hierarchies for imprecise but very fast shortest path calculation.\n",
    "\n",
    "Relevant readings:  \n",
    "- Gimond, Intro to GIS and Spatial Analysis, ch. 1, 2, 9. [Direct link](https://mgimond.github.io/Spatial/introGIS.html).\n",
    "\n",
    "- Kontokosta. 2018. Urban Informatics in the Science and Practice of Planning. Journal of Planning Education and Research. [Direct link](https://journals.sagepub.com/doi/10.1177/0739456X18793716).\n",
    "\n",
    "- Townsend. 2015. Cities of Data: Examining the New Urban Science. Public Culture. [Direct link](https://read.dukeupress.edu/public-culture/article-abstract/27/2%20(76)/201/73695/Cities-of-Data-Examining-the-New-Urban-Science?redirectedFrom=fulltext).\n",
    "\n",
    "- Mattern. 2013. Methodolatry and the Art of Measure: The New Wave of Urban Data Science. Places. [Direct link](https://placesjournal.org/article/methodolatry-and-the-art-of-measure/?cn-reloaded=1).\n",
    "\n",
    "- O'Sullivan. 2014. Spatial Network Analysis. Handbook of Regional Science, edited by Fischer and Nijkamp. [Direct link](https://link.springer.com/referenceworkentry/10.1007%2F978-3-642-23430-9_67)\n",
    "\n",
    "- Boeing and Arribas-Bel. 2021. GIS and Computational Notebooks. In: The Geographic Information Science & Technology Body of Knowledge, edited by J.P. Wilson. [Direct link](https://gistbok.ucgis.org/bok-topics/gis-and-computational-notebooks)\n",
    "\n",
    "- Boeing, G. 2017. OSMnx: New Methods for Acquiring, Constructing, Analyzing, and Visualizing Complex Street Networks. Computers, Environment and Urban Systems. [Direct link](https://www.sciencedirect.com/science/article/pii/S0198971516303970)"
   ]
  },
  {
   "cell_type": "code",
   "execution_count": 39,
   "metadata": {},
   "outputs": [],
   "source": [
    "import pandas as pd\n",
    "import geopandas as gpd\n",
    "from shapely.geometry import Point\n",
    "import networkx as nx\n",
    "import numpy as np\n",
    "import osmnx as ox\n",
    "import pandana\n",
    "\n",
    "# configure OSMnx\n",
    "cache_folder = '../../data/cache2'\n",
    "ox.config(log_console=True, use_cache=True, cache_folder=cache_folder)"
   ]
  },
  {
   "cell_type": "markdown",
   "metadata": {},
   "source": [
    "## 1. Quick overview of key concepts\n",
    "\n",
    "### What is GIS?\n",
    "\n",
    "GIS stands for geographic information system. GIS software lets you work with spatial data, that is, data associated with locations on the Earth. These locations are represented with coordinates: longitude (x), latitude (y), and often elevation (z). With GIS software you can collect, edit, query, analyze, and visualize spatial data. Examples of GIS software include ArcGIS, QGIS, PostGIS, and GeoPandas.\n",
    "\n",
    "### Some terminology:\n",
    "\n",
    "- **geoid**: (that's *gee-oid*) the surface of the earth's gravity field, which approximates mean sea level\n",
    "- **spheroid** or **ellipsoid** (interchangeable terms): a model that smoothly approximates the geoid\n",
    "- **datum**: based on spheroid but incorporates local variations in the shape of the Earth. Used to describe a point on the Earth's surface, such as in latitude and longitude.\n",
    "  - WGS84 (World Geodetic Survey 1984 datum) uses the WGS84 spheroid\n",
    "  - The latitude and longitude coordinates of some point differ slightly based on the datum. GPS uses WGS84.\n",
    "- **coordinate reference system** (CRS) or spatial reference system (SRS): a series of parameters that [define](http://spatialreference.org/) the coordinate system and spatial extent (aka, domain) of some dataset.\n",
    "- **geographic coordinate system** (GCS): specifies a datum, spheroid, units of measure (such as meters), and a prime meridian\n",
    "- **projected coordinate system** or map projection: projects a map of the Earth's 3-D spherical surface onto a flat surface that can be measured in units like meters. Here's a [list of projections](https://en.wikipedia.org/wiki/List_of_map_projections).\n",
    "- **eastings** and **northings**: the x and y coordinates of a projected map, usually measured in meters\n",
    "- **false origin**: the 0,0 origin point from which eastings and northings are measured on a map, usually the lower left corner rather than the center\n",
    "- **PROJ.4**: a library to convert/project spatial data with consistent CRS [parameter names](https://github.com/OSGeo/proj.4/wiki/GenParms)\n"
   ]
  },
  {
   "cell_type": "markdown",
   "metadata": {},
   "source": [
    "## 2. Loading spatial data\n",
    "\n",
    "You can use a GIS like ArcGIS or QGIS to open a spatial data file (typically a shapefile, GeoJSON file, or CSV file with lat-long columns). Today we'll introduce the basic concepts of spatial data and GIS operations using [geopandas](http://geopandas.org/user.html), which spatializes pandas dataframes. It uses the [shapely](https://shapely.readthedocs.io/en/latest/manual.html) package for geometry. We'll focus on common, shared concepts and operations, rather than \"how-to\" in the user interface of a specific GIS program.\n",
    "\n",
    "### 2a. Loading a shapefile\n",
    "\n",
    "Where to get census shapefiles? https://www.census.gov/cgi-bin/geo/shapefiles/index.php\n",
    "\n",
    "The term \"shapefile\" is a misnomer... a shapefile is actually a folder containing multiple files that contain spatial geometry, attribute data, projection information, etc: https://en.wikipedia.org/wiki/Shapefile"
   ]
  },
  {
   "cell_type": "code",
   "execution_count": 40,
   "metadata": {},
   "outputs": [
    {
     "data": {
      "text/plain": [
       "(3234, 10)"
      ]
     },
     "execution_count": 40,
     "metadata": {},
     "output_type": "execute_result"
    }
   ],
   "source": [
    "# tell geopandas to read a shapefile with its read_file() function, passing in the shapefile folder\n",
    "# this produces a GeoDataFrame\n",
    "gdf = gpd.read_file('data/cb_2013_us_county_5m/cb_2013_us_county_5m.shp')\n",
    "gdf.shape"
   ]
  },
  {
   "cell_type": "code",
   "execution_count": 41,
   "metadata": {},
   "outputs": [
    {
     "data": {
      "text/html": [
       "<div>\n",
       "<style scoped>\n",
       "    .dataframe tbody tr th:only-of-type {\n",
       "        vertical-align: middle;\n",
       "    }\n",
       "\n",
       "    .dataframe tbody tr th {\n",
       "        vertical-align: top;\n",
       "    }\n",
       "\n",
       "    .dataframe thead th {\n",
       "        text-align: right;\n",
       "    }\n",
       "</style>\n",
       "<table border=\"1\" class=\"dataframe\">\n",
       "  <thead>\n",
       "    <tr style=\"text-align: right;\">\n",
       "      <th></th>\n",
       "      <th>STATEFP</th>\n",
       "      <th>COUNTYFP</th>\n",
       "      <th>COUNTYNS</th>\n",
       "      <th>AFFGEOID</th>\n",
       "      <th>GEOID</th>\n",
       "      <th>NAME</th>\n",
       "      <th>LSAD</th>\n",
       "      <th>ALAND</th>\n",
       "      <th>AWATER</th>\n",
       "      <th>geometry</th>\n",
       "    </tr>\n",
       "  </thead>\n",
       "  <tbody>\n",
       "    <tr>\n",
       "      <th>0</th>\n",
       "      <td>06</td>\n",
       "      <td>061</td>\n",
       "      <td>00277295</td>\n",
       "      <td>0500000US06061</td>\n",
       "      <td>06061</td>\n",
       "      <td>Placer</td>\n",
       "      <td>06</td>\n",
       "      <td>3643636599</td>\n",
       "      <td>247086378</td>\n",
       "      <td>POLYGON ((-121.48444 38.75135, -121.46980 38.7...</td>\n",
       "    </tr>\n",
       "    <tr>\n",
       "      <th>1</th>\n",
       "      <td>09</td>\n",
       "      <td>013</td>\n",
       "      <td>00212668</td>\n",
       "      <td>0500000US09013</td>\n",
       "      <td>09013</td>\n",
       "      <td>Tolland</td>\n",
       "      <td>06</td>\n",
       "      <td>1062460624</td>\n",
       "      <td>17686143</td>\n",
       "      <td>POLYGON ((-72.51333 41.94540, -72.49273 41.947...</td>\n",
       "    </tr>\n",
       "    <tr>\n",
       "      <th>2</th>\n",
       "      <td>18</td>\n",
       "      <td>043</td>\n",
       "      <td>00450350</td>\n",
       "      <td>0500000US18043</td>\n",
       "      <td>18043</td>\n",
       "      <td>Floyd</td>\n",
       "      <td>06</td>\n",
       "      <td>383154033</td>\n",
       "      <td>2644456</td>\n",
       "      <td>POLYGON ((-86.03282 38.41790, -86.01414 38.419...</td>\n",
       "    </tr>\n",
       "    <tr>\n",
       "      <th>3</th>\n",
       "      <td>21</td>\n",
       "      <td>057</td>\n",
       "      <td>00516875</td>\n",
       "      <td>0500000US21057</td>\n",
       "      <td>21057</td>\n",
       "      <td>Cumberland</td>\n",
       "      <td>06</td>\n",
       "      <td>790416941</td>\n",
       "      <td>14830095</td>\n",
       "      <td>POLYGON ((-85.60162 36.87220, -85.58053 36.868...</td>\n",
       "    </tr>\n",
       "    <tr>\n",
       "      <th>4</th>\n",
       "      <td>47</td>\n",
       "      <td>069</td>\n",
       "      <td>01639750</td>\n",
       "      <td>0500000US47069</td>\n",
       "      <td>47069</td>\n",
       "      <td>Hardeman</td>\n",
       "      <td>06</td>\n",
       "      <td>1729454851</td>\n",
       "      <td>6823701</td>\n",
       "      <td>POLYGON ((-89.18394 35.39713, -89.18255 35.432...</td>\n",
       "    </tr>\n",
       "  </tbody>\n",
       "</table>\n",
       "</div>"
      ],
      "text/plain": [
       "  STATEFP COUNTYFP  COUNTYNS        AFFGEOID  GEOID        NAME LSAD  \\\n",
       "0      06      061  00277295  0500000US06061  06061      Placer   06   \n",
       "1      09      013  00212668  0500000US09013  09013     Tolland   06   \n",
       "2      18      043  00450350  0500000US18043  18043       Floyd   06   \n",
       "3      21      057  00516875  0500000US21057  21057  Cumberland   06   \n",
       "4      47      069  01639750  0500000US47069  47069    Hardeman   06   \n",
       "\n",
       "        ALAND     AWATER                                           geometry  \n",
       "0  3643636599  247086378  POLYGON ((-121.48444 38.75135, -121.46980 38.7...  \n",
       "1  1062460624   17686143  POLYGON ((-72.51333 41.94540, -72.49273 41.947...  \n",
       "2   383154033    2644456  POLYGON ((-86.03282 38.41790, -86.01414 38.419...  \n",
       "3   790416941   14830095  POLYGON ((-85.60162 36.87220, -85.58053 36.868...  \n",
       "4  1729454851    6823701  POLYGON ((-89.18394 35.39713, -89.18255 35.432...  "
      ]
     },
     "execution_count": 41,
     "metadata": {},
     "output_type": "execute_result"
    }
   ],
   "source": [
    "# just like regular pandas, see the first 5 rows of the GeoDataFrame\n",
    "# this is a shapefile of polygon geometries, that is, tract boundaries\n",
    "gdf.head()"
   ]
  },
  {
   "cell_type": "code",
   "execution_count": 42,
   "metadata": {},
   "outputs": [
    {
     "data": {
      "image/png": "[encoded data removed]",
      "text/plain": [
       "<Figure size 432x288 with 1 Axes>"
      ]
     },
     "metadata": {
      "needs_background": "light"
     },
     "output_type": "display_data"
    }
   ],
   "source": [
    "# mapping is as easy as calling the GeoDataFrame's plot method\n",
    "ax = gdf.plot()"
   ]
  },
  {
   "cell_type": "code",
   "execution_count": 43,
   "metadata": {},
   "outputs": [
    {
     "data": {
      "text/plain": [
       "(3109, 10)"
      ]
     },
     "execution_count": 43,
     "metadata": {},
     "output_type": "execute_result"
    }
   ],
   "source": [
    "# just like in regular pandas, we can filter and subset the GeoDataFrame\n",
    "# exclude counties in islands\n",
    "island = gdf['STATEFP'].isin(['15','69','66','02','72','60', '78'])\n",
    "gdf_county = gdf[~island]\n",
    "\n",
    "gdf_county.shape"
   ]
  },
  {
   "cell_type": "code",
   "execution_count": 44,
   "metadata": {},
   "outputs": [
    {
     "data": {
      "text/plain": [
       "<Geographic 2D CRS: EPSG:4269>\n",
       "Name: NAD83\n",
       "Axis Info [ellipsoidal]:\n",
       "- Lat[north]: Geodetic latitude (degree)\n",
       "- Lon[east]: Geodetic longitude (degree)\n",
       "Area of Use:\n",
       "- name: North America - NAD83\n",
       "- bounds: (167.65, 14.92, -47.74, 86.46)\n",
       "Datum: North American Datum 1983\n",
       "- Ellipsoid: GRS 1980\n",
       "- Prime Meridian: Greenwich"
      ]
     },
     "execution_count": 44,
     "metadata": {},
     "output_type": "execute_result"
    }
   ],
   "source": [
    "# what is the CRS?\n",
    "# this derives from the shapefile's .prj file\n",
    "# always make sure the shapefile you load has prj info so you get a CRS attribute!\n",
    "gdf_county.crs"
   ]
  },
  {
   "cell_type": "markdown",
   "metadata": {},
   "source": [
    "When we loaded the shapefile, geopandas loaded the CRS from the shapefile itself. But if you are loading a CSV file that is not explicitly spatial and it contains no CRS data, remember that you should always define the CRS if you are manually creating a GeoDataFrame.  \n",
    "\n",
    "You need to look up an appropriate projection for the spatial extents of your data/map. This is a huge topic in and of itself, so for today we'll just focus on some (over-simplified) rules of thumb:\n",
    "\n",
    "  1. If you're mapping global data, choose a global projection like [Mercator](https://spatialreference.org/ref/sr-org/16/) or [Robinson](https://spatialreference.org/ref/esri/54030/)\n",
    "  1. If you're mapping national data, choose a national projection like [epsg:2163](https://spatialreference.org/ref/epsg/2163/) for the US\n",
    "\n",
    "https://spatialreference.org/ is a good resource. There you can click the \"proj4\" link on any CRS's page to get a string you can use with geopandas.\n",
    "\n",
    "Here in this case, I project the my county data to Albers Conical Equal Area projection, a CRS appropriate for projecting USA data:"
   ]
  },
  {
   "cell_type": "code",
   "execution_count": 45,
   "metadata": {},
   "outputs": [],
   "source": [
    "# define a CRS appropriate for projecting USA data\n",
    "usa_crs = 'epsg:2163'\n",
    "\n",
    "gdf_county_proj = gdf_county.to_crs(usa_crs)"
   ]
  },
  {
   "cell_type": "markdown",
   "metadata": {},
   "source": [
    "**Be careful**: heed the difference between `gdf.crs` and `gdf.to_crs()`. The first tells you the geodataframe's current CRS. The latter projects the geodataframe to a new CRS."
   ]
  },
  {
   "cell_type": "code",
   "execution_count": 46,
   "metadata": {},
   "outputs": [
    {
     "data": {
      "image/png": "[encoded data removed]",
      "text/plain": [
       "<Figure size 432x288 with 1 Axes>"
      ]
     },
     "metadata": {
      "needs_background": "light"
     },
     "output_type": "display_data"
    }
   ],
   "source": [
    "# plot the projected county + listings\n",
    "ax = gdf_county_proj.plot()"
   ]
  },
  {
   "cell_type": "markdown",
   "metadata": {},
   "source": [
    "### 2b. Loading a CSV file\n",
    "\n",
    "Often, you won't have a shapefile (which is explicitly spatial), but rather a CSV file which is implicitly spatial (contains lat-lng columns). If you're loading a CSV file (or other non-explicitly spatial file type) of lat-lng data:\n",
    "\n",
    "  1. first load the CSV file as a DataFrame the usual way with pandas\n",
    "  2. then create a new geopandas GeoDataFrame from your DataFrame\n",
    "  3. manually create a geometry column\n",
    "  4. set the CRS"
   ]
  },
  {
   "cell_type": "code",
   "execution_count": 47,
   "metadata": {
    "collapsed": false,
    "jupyter": {
     "outputs_hidden": false
    }
   },
   "outputs": [
    {
     "data": {
      "text/plain": [
       "(3127, 45)"
      ]
     },
     "execution_count": 47,
     "metadata": {},
     "output_type": "execute_result"
    }
   ],
   "source": [
    "# load rental listings data as a regular pandas dataframe\n",
    "df = pd.read_csv('data/us_county_acs_data.csv')\n",
    "df.shape"
   ]
  },
  {
   "cell_type": "code",
   "execution_count": 48,
   "metadata": {},
   "outputs": [
    {
     "data": {
      "text/html": [
       "<div>\n",
       "<style scoped>\n",
       "    .dataframe tbody tr th:only-of-type {\n",
       "        vertical-align: middle;\n",
       "    }\n",
       "\n",
       "    .dataframe tbody tr th {\n",
       "        vertical-align: top;\n",
       "    }\n",
       "\n",
       "    .dataframe thead th {\n",
       "        text-align: right;\n",
       "    }\n",
       "</style>\n",
       "<table border=\"1\" class=\"dataframe\">\n",
       "  <thead>\n",
       "    <tr style=\"text-align: right;\">\n",
       "      <th></th>\n",
       "      <th>fips</th>\n",
       "      <th>state</th>\n",
       "      <th>year</th>\n",
       "      <th>CountyNameStateAbbreviation</th>\n",
       "      <th>nonmetro</th>\n",
       "      <th>metro</th>\n",
       "      <th>largemetro</th>\n",
       "      <th>smallmetro</th>\n",
       "      <th>RUCC</th>\n",
       "      <th>edu_bacherate</th>\n",
       "      <th>...</th>\n",
       "      <th>perc_femaleemp</th>\n",
       "      <th>raceedu_gap</th>\n",
       "      <th>race_homeowngap</th>\n",
       "      <th>poverty_white</th>\n",
       "      <th>poverty_minority</th>\n",
       "      <th>race_povertygap</th>\n",
       "      <th>z_perc_minor</th>\n",
       "      <th>z_raceedu_gap</th>\n",
       "      <th>z_race_homeowngap</th>\n",
       "      <th>z_race_povertygap</th>\n",
       "    </tr>\n",
       "  </thead>\n",
       "  <tbody>\n",
       "    <tr>\n",
       "      <th>0</th>\n",
       "      <td>13159</td>\n",
       "      <td>GA</td>\n",
       "      <td>2015</td>\n",
       "      <td>Jasper County, GA</td>\n",
       "      <td>0</td>\n",
       "      <td>1</td>\n",
       "      <td>1</td>\n",
       "      <td>0</td>\n",
       "      <td>1</td>\n",
       "      <td>11.812768</td>\n",
       "      <td>...</td>\n",
       "      <td>0.190613</td>\n",
       "      <td>0.578092</td>\n",
       "      <td>0.098106</td>\n",
       "      <td>1776</td>\n",
       "      <td>1009</td>\n",
       "      <td>0.107386</td>\n",
       "      <td>0.575824</td>\n",
       "      <td>0.530019</td>\n",
       "      <td>0.620171</td>\n",
       "      <td>0.066741</td>\n",
       "    </tr>\n",
       "    <tr>\n",
       "      <th>1</th>\n",
       "      <td>41067</td>\n",
       "      <td>OR</td>\n",
       "      <td>2015</td>\n",
       "      <td>Washington County, OR</td>\n",
       "      <td>0</td>\n",
       "      <td>1</td>\n",
       "      <td>1</td>\n",
       "      <td>0</td>\n",
       "      <td>1</td>\n",
       "      <td>41.899132</td>\n",
       "      <td>...</td>\n",
       "      <td>0.227378</td>\n",
       "      <td>0.646886</td>\n",
       "      <td>0.142895</td>\n",
       "      <td>43178</td>\n",
       "      <td>21683</td>\n",
       "      <td>0.073754</td>\n",
       "      <td>0.354078</td>\n",
       "      <td>0.296808</td>\n",
       "      <td>0.340605</td>\n",
       "      <td>0.365100</td>\n",
       "    </tr>\n",
       "    <tr>\n",
       "      <th>2</th>\n",
       "      <td>51177</td>\n",
       "      <td>VA</td>\n",
       "      <td>2015</td>\n",
       "      <td>Spotsylvania County, VA</td>\n",
       "      <td>0</td>\n",
       "      <td>1</td>\n",
       "      <td>1</td>\n",
       "      <td>0</td>\n",
       "      <td>1</td>\n",
       "      <td>30.371456</td>\n",
       "      <td>...</td>\n",
       "      <td>0.230807</td>\n",
       "      <td>0.563850</td>\n",
       "      <td>0.182424</td>\n",
       "      <td>6020</td>\n",
       "      <td>4376</td>\n",
       "      <td>0.069633</td>\n",
       "      <td>0.553407</td>\n",
       "      <td>0.578300</td>\n",
       "      <td>0.093869</td>\n",
       "      <td>0.401655</td>\n",
       "    </tr>\n",
       "    <tr>\n",
       "      <th>3</th>\n",
       "      <td>22087</td>\n",
       "      <td>LA</td>\n",
       "      <td>2015</td>\n",
       "      <td>St. Bernard Parish, LA</td>\n",
       "      <td>0</td>\n",
       "      <td>1</td>\n",
       "      <td>1</td>\n",
       "      <td>0</td>\n",
       "      <td>1</td>\n",
       "      <td>13.555163</td>\n",
       "      <td>...</td>\n",
       "      <td>0.182090</td>\n",
       "      <td>0.572725</td>\n",
       "      <td>0.245920</td>\n",
       "      <td>5008</td>\n",
       "      <td>3201</td>\n",
       "      <td>0.106974</td>\n",
       "      <td>0.676235</td>\n",
       "      <td>0.548211</td>\n",
       "      <td>-0.302464</td>\n",
       "      <td>0.070396</td>\n",
       "    </tr>\n",
       "    <tr>\n",
       "      <th>4</th>\n",
       "      <td>44003</td>\n",
       "      <td>RI</td>\n",
       "      <td>2015</td>\n",
       "      <td>Kent County, RI</td>\n",
       "      <td>0</td>\n",
       "      <td>1</td>\n",
       "      <td>1</td>\n",
       "      <td>0</td>\n",
       "      <td>1</td>\n",
       "      <td>32.609238</td>\n",
       "      <td>...</td>\n",
       "      <td>0.254689</td>\n",
       "      <td>0.878656</td>\n",
       "      <td>0.183031</td>\n",
       "      <td>12641</td>\n",
       "      <td>1122</td>\n",
       "      <td>0.008429</td>\n",
       "      <td>-0.545715</td>\n",
       "      <td>-0.488886</td>\n",
       "      <td>0.090080</td>\n",
       "      <td>0.944608</td>\n",
       "    </tr>\n",
       "  </tbody>\n",
       "</table>\n",
       "<p>5 rows × 45 columns</p>\n",
       "</div>"
      ],
      "text/plain": [
       "    fips state  year CountyNameStateAbbreviation  nonmetro  metro  largemetro  \\\n",
       "0  13159    GA  2015           Jasper County, GA         0      1           1   \n",
       "1  41067    OR  2015       Washington County, OR         0      1           1   \n",
       "2  51177    VA  2015     Spotsylvania County, VA         0      1           1   \n",
       "3  22087    LA  2015      St. Bernard Parish, LA         0      1           1   \n",
       "4  44003    RI  2015             Kent County, RI         0      1           1   \n",
       "\n",
       "   smallmetro  RUCC  edu_bacherate  ...  perc_femaleemp  raceedu_gap  \\\n",
       "0           0     1      11.812768  ...        0.190613     0.578092   \n",
       "1           0     1      41.899132  ...        0.227378     0.646886   \n",
       "2           0     1      30.371456  ...        0.230807     0.563850   \n",
       "3           0     1      13.555163  ...        0.182090     0.572725   \n",
       "4           0     1      32.609238  ...        0.254689     0.878656   \n",
       "\n",
       "   race_homeowngap  poverty_white  poverty_minority  race_povertygap  \\\n",
       "0         0.098106           1776              1009         0.107386   \n",
       "1         0.142895          43178             21683         0.073754   \n",
       "2         0.182424           6020              4376         0.069633   \n",
       "3         0.245920           5008              3201         0.106974   \n",
       "4         0.183031          12641              1122         0.008429   \n",
       "\n",
       "  z_perc_minor  z_raceedu_gap z_race_homeowngap  z_race_povertygap  \n",
       "0     0.575824       0.530019          0.620171           0.066741  \n",
       "1     0.354078       0.296808          0.340605           0.365100  \n",
       "2     0.553407       0.578300          0.093869           0.401655  \n",
       "3     0.676235       0.548211         -0.302464           0.070396  \n",
       "4    -0.545715      -0.488886          0.090080           0.944608  \n",
       "\n",
       "[5 rows x 45 columns]"
      ]
     },
     "execution_count": 48,
     "metadata": {},
     "output_type": "execute_result"
    }
   ],
   "source": [
    "df.head()"
   ]
  },
  {
   "cell_type": "code",
   "execution_count": 49,
   "metadata": {},
   "outputs": [],
   "source": [
    "# now we have two dataset, one is the county level shapefile, the other is the csv file containing county-level demographic data\n",
    "# the goal for us is to map county level data\n",
    "# we can perform merge using pandas based on their common field (county code) to combine the two dataset\n",
    "gdf_county_proj['GEOID'] = gdf_county_proj['GEOID'].astype(int)\n",
    "gdf_county_proj = gdf_county_proj.set_index('GEOID').sort_values(by='GEOID')\n",
    "\n",
    "df['fips'] = df['fips'].astype(int)\n",
    "df = df.set_index('fips').sort_values(by='fips')\n",
    "\n",
    "df_data = pd.merge(left=df, right=gdf_county_proj, how='inner', left_index=True, right_index=True)"
   ]
  },
  {
   "cell_type": "code",
   "execution_count": 51,
   "metadata": {},
   "outputs": [
    {
     "data": {
      "text/plain": [
       "Index(['state', 'year', 'CountyNameStateAbbreviation', 'nonmetro', 'metro',\n",
       "       'largemetro', 'smallmetro', 'RUCC', 'edu_bacherate', 'unemprate',\n",
       "       'povertyrate', 'averagefirmsize', 'age25to44', 'age45to64',\n",
       "       'clusterstrength', 'Name of Area', 'RUCC_code', 'RUCC_des',\n",
       "       'totculest15', 'totculbirth15', 'totculdeath15', 'ctyname', 'est15',\n",
       "       'emp15', 'annpayroll15', 'inclu_index', 'Total Population',\n",
       "       'Population Density sqmile', 'perc_white', 'perc_hisp', 'perc_minor',\n",
       "       'perc_female', 'Female_Employed', 'foreign_pop', 'perc_femaleemp',\n",
       "       'raceedu_gap', 'race_homeowngap', 'poverty_white', 'poverty_minority',\n",
       "       'race_povertygap', 'z_perc_minor', 'z_raceedu_gap', 'z_race_homeowngap',\n",
       "       'z_race_povertygap', 'STATEFP', 'COUNTYFP', 'COUNTYNS', 'AFFGEOID',\n",
       "       'NAME', 'LSAD', 'ALAND', 'AWATER', 'geometry'],\n",
       "      dtype='object')"
      ]
     },
     "execution_count": 51,
     "metadata": {},
     "output_type": "execute_result"
    }
   ],
   "source": [
    "# create a new geopandas geodataframe manually from the pandas dataframe\n",
    "gdf_data = gpd.GeoDataFrame(df_data)\n",
    "gdf_data.columns"
   ]
  },
  {
   "cell_type": "markdown",
   "metadata": {},
   "source": [
    "## 4. Geometric operations\n",
    "\n",
    "GIS and spatial analysis use common \"computational geometry\" operations like intersects, within, and dissolve.\n",
    "\n",
    "  - *intersects* tells you if each geometry in one dataset intersects with some other (single) geometry\n",
    "  - *within* tells you if each geometry in one dataset is within some other (single) geometry\n",
    "  - *dissolve* lets you aggregate data (merge their geometries together) if they share some attribute in common: this is the spatial equivalent of pandas's groupby function\n",
    "  \n",
    "Many other operations exist in the world of GIS, but these are among the most common and useful."
   ]
  },
  {
   "cell_type": "code",
   "execution_count": null,
   "metadata": {},
   "outputs": [],
   "source": []
  }
 ],
 "metadata": {
  "kernelspec": {
   "display_name": "Python 3",
   "language": "python",
   "name": "python3"
  },
  "language_info": {
   "codemirror_mode": {
    "name": "ipython",
    "version": 3
   },
   "file_extension": ".py",
   "mimetype": "text/x-python",
   "name": "python",
   "nbconvert_exporter": "python",
   "pygments_lexer": "ipython3",
   "version": "3.7.8"
  }
 },
 "nbformat": 4,
 "nbformat_minor": 4
}
